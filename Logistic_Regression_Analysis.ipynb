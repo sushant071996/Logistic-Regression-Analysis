{
 "cells": [
  {
   "cell_type": "markdown",
   "metadata": {},
   "source": [
    "<font color=\"maroon\" size=\"6\"><center><b>Logistic Regression</b></center></font>\n",
    "<font color=\"Royalblue\" size=\"4\"><center>Owner: Sushant Borade</center></font>\n",
    "<font color=\"Royalblue\" size=\"4\"><center>Mail ID: sushant.9196@gmail.com</center></font>"
   ]
  },
  {
   "cell_type": "markdown",
   "metadata": {},
   "source": [
    "<font size=\"4\"><b>Loading the Package</b></font>"
   ]
  },
  {
   "cell_type": "code",
   "execution_count": 132,
   "metadata": {},
   "outputs": [],
   "source": [
    "import pandas as pd\n",
    "import os as os\n",
    "import numpy as np\n",
    "\n",
    "#Visuals\n",
    "import matplotlib.pyplot as plt\n",
    "import seaborn as sns\n",
    "\n",
    "# To split data\n",
    "from sklearn.model_selection import train_test_split\n",
    "\n",
    "import warnings\n",
    "warnings.filterwarnings(\"ignore\")"
   ]
  },
  {
   "cell_type": "markdown",
   "metadata": {},
   "source": [
    "<font size=\"4\" color=\"green\"><b>User Defined Function</b></font>"
   ]
  },
  {
   "cell_type": "code",
   "execution_count": 133,
   "metadata": {},
   "outputs": [],
   "source": [
    "def scatter_regplot(x, y, in_data): \n",
    "    '''\n",
    "    Returns Scatter plot with regression trend line\n",
    "    '''\n",
    "    \n",
    "    sns.regplot(x=x, y=y, data=in_data) \n",
    "    plt.xlabel(x, fontsize = 13)\n",
    "    plt.ylabel(y, fontsize = 13)\n",
    "    plt.title(\"Scatter Plot of \" + x + \" & \" + y, fontsize = 15)\n",
    "    plt.grid()\n",
    "    plt.show()"
   ]
  },
  {
   "cell_type": "code",
   "execution_count": 134,
   "metadata": {},
   "outputs": [],
   "source": [
    "def HeatMap(df):\n",
    "    corr = df.corr()\n",
    "    mask = np.zeros_like(corr)\n",
    "    mask[np.triu_indices_from(mask)] = True\n",
    "    f, ax = plt.subplots(figsize=(11, 7))        # Sample figsize in inches\n",
    "    sns.heatmap(corr,annot=True ,linewidths=.10,ax=ax,cmap='YlGnBu',mask=mask, vmin = -1,vmax=1,)\n",
    "    bottom, top = ax.get_ylim()\n",
    "    #print(\"Bottom is \",bottom,\"After adding\",bottom+0.5)\n",
    "    #print(\"TOp is \",top,\"After adding\",top-0.5)\n",
    "    ax.set_ylim(bottom + 0.5, top - 0.5)"
   ]
  },
  {
   "cell_type": "markdown",
   "metadata": {},
   "source": [
    "<font size=\"4\" color=\"green\"><b>Loading the Data Set</b></font>"
   ]
  },
  {
   "cell_type": "code",
   "execution_count": 135,
   "metadata": {},
   "outputs": [],
   "source": [
    "filepath = r\"F:\\github\"\n",
    "filename = \"Shopping_status.csv\"\n",
    "\n",
    "data = pd.read_csv(os.path.join(filepath, filename))"
   ]
  },
  {
   "cell_type": "code",
   "execution_count": 136,
   "metadata": {},
   "outputs": [
    {
     "data": {
      "text/html": [
       "<div>\n",
       "<style scoped>\n",
       "    .dataframe tbody tr th:only-of-type {\n",
       "        vertical-align: middle;\n",
       "    }\n",
       "\n",
       "    .dataframe tbody tr th {\n",
       "        vertical-align: top;\n",
       "    }\n",
       "\n",
       "    .dataframe thead th {\n",
       "        text-align: right;\n",
       "    }\n",
       "</style>\n",
       "<table border=\"1\" class=\"dataframe\">\n",
       "  <thead>\n",
       "    <tr style=\"text-align: right;\">\n",
       "      <th></th>\n",
       "      <th>User ID</th>\n",
       "      <th>Gender</th>\n",
       "      <th>Age</th>\n",
       "      <th>EstimatedSalary</th>\n",
       "      <th>Purchased</th>\n",
       "    </tr>\n",
       "  </thead>\n",
       "  <tbody>\n",
       "    <tr>\n",
       "      <td>0</td>\n",
       "      <td>15624510</td>\n",
       "      <td>Male</td>\n",
       "      <td>19</td>\n",
       "      <td>19000</td>\n",
       "      <td>0</td>\n",
       "    </tr>\n",
       "    <tr>\n",
       "      <td>1</td>\n",
       "      <td>15810944</td>\n",
       "      <td>Male</td>\n",
       "      <td>35</td>\n",
       "      <td>20000</td>\n",
       "      <td>0</td>\n",
       "    </tr>\n",
       "    <tr>\n",
       "      <td>2</td>\n",
       "      <td>15668575</td>\n",
       "      <td>Female</td>\n",
       "      <td>26</td>\n",
       "      <td>43000</td>\n",
       "      <td>0</td>\n",
       "    </tr>\n",
       "    <tr>\n",
       "      <td>3</td>\n",
       "      <td>15603246</td>\n",
       "      <td>Female</td>\n",
       "      <td>27</td>\n",
       "      <td>57000</td>\n",
       "      <td>0</td>\n",
       "    </tr>\n",
       "    <tr>\n",
       "      <td>4</td>\n",
       "      <td>15804002</td>\n",
       "      <td>Male</td>\n",
       "      <td>19</td>\n",
       "      <td>76000</td>\n",
       "      <td>0</td>\n",
       "    </tr>\n",
       "  </tbody>\n",
       "</table>\n",
       "</div>"
      ],
      "text/plain": [
       "    User ID  Gender  Age  EstimatedSalary  Purchased\n",
       "0  15624510    Male   19            19000          0\n",
       "1  15810944    Male   35            20000          0\n",
       "2  15668575  Female   26            43000          0\n",
       "3  15603246  Female   27            57000          0\n",
       "4  15804002    Male   19            76000          0"
      ]
     },
     "execution_count": 136,
     "metadata": {},
     "output_type": "execute_result"
    }
   ],
   "source": [
    "data.head() #Top 5 rows"
   ]
  },
  {
   "cell_type": "code",
   "execution_count": 137,
   "metadata": {},
   "outputs": [
    {
     "data": {
      "text/html": [
       "<div>\n",
       "<style scoped>\n",
       "    .dataframe tbody tr th:only-of-type {\n",
       "        vertical-align: middle;\n",
       "    }\n",
       "\n",
       "    .dataframe tbody tr th {\n",
       "        vertical-align: top;\n",
       "    }\n",
       "\n",
       "    .dataframe thead th {\n",
       "        text-align: right;\n",
       "    }\n",
       "</style>\n",
       "<table border=\"1\" class=\"dataframe\">\n",
       "  <thead>\n",
       "    <tr style=\"text-align: right;\">\n",
       "      <th></th>\n",
       "      <th>User ID</th>\n",
       "      <th>Gender</th>\n",
       "      <th>Age</th>\n",
       "      <th>EstimatedSalary</th>\n",
       "      <th>Purchased</th>\n",
       "    </tr>\n",
       "  </thead>\n",
       "  <tbody>\n",
       "    <tr>\n",
       "      <td>395</td>\n",
       "      <td>15691863</td>\n",
       "      <td>Female</td>\n",
       "      <td>46</td>\n",
       "      <td>41000</td>\n",
       "      <td>1</td>\n",
       "    </tr>\n",
       "    <tr>\n",
       "      <td>396</td>\n",
       "      <td>15706071</td>\n",
       "      <td>Male</td>\n",
       "      <td>51</td>\n",
       "      <td>23000</td>\n",
       "      <td>1</td>\n",
       "    </tr>\n",
       "    <tr>\n",
       "      <td>397</td>\n",
       "      <td>15654296</td>\n",
       "      <td>Female</td>\n",
       "      <td>50</td>\n",
       "      <td>20000</td>\n",
       "      <td>1</td>\n",
       "    </tr>\n",
       "    <tr>\n",
       "      <td>398</td>\n",
       "      <td>15755018</td>\n",
       "      <td>Male</td>\n",
       "      <td>36</td>\n",
       "      <td>33000</td>\n",
       "      <td>0</td>\n",
       "    </tr>\n",
       "    <tr>\n",
       "      <td>399</td>\n",
       "      <td>15594041</td>\n",
       "      <td>Female</td>\n",
       "      <td>49</td>\n",
       "      <td>36000</td>\n",
       "      <td>1</td>\n",
       "    </tr>\n",
       "  </tbody>\n",
       "</table>\n",
       "</div>"
      ],
      "text/plain": [
       "      User ID  Gender  Age  EstimatedSalary  Purchased\n",
       "395  15691863  Female   46            41000          1\n",
       "396  15706071    Male   51            23000          1\n",
       "397  15654296  Female   50            20000          1\n",
       "398  15755018    Male   36            33000          0\n",
       "399  15594041  Female   49            36000          1"
      ]
     },
     "execution_count": 137,
     "metadata": {},
     "output_type": "execute_result"
    }
   ],
   "source": [
    "data.tail() #Bottom 5 rows"
   ]
  },
  {
   "cell_type": "markdown",
   "metadata": {},
   "source": [
    "<font size=\"4\" color=\"red\"><b>Data Cleaning</b></font>"
   ]
  },
  {
   "cell_type": "code",
   "execution_count": 138,
   "metadata": {},
   "outputs": [
    {
     "data": {
      "text/plain": [
       "(400, 5)"
      ]
     },
     "execution_count": 138,
     "metadata": {},
     "output_type": "execute_result"
    }
   ],
   "source": [
    "data.shape #Find no or rows and columns"
   ]
  },
  {
   "cell_type": "code",
   "execution_count": 139,
   "metadata": {},
   "outputs": [
    {
     "data": {
      "text/plain": [
       "Index(['User ID', 'Gender', 'Age', 'EstimatedSalary', 'Purchased'], dtype='object')"
      ]
     },
     "execution_count": 139,
     "metadata": {},
     "output_type": "execute_result"
    }
   ],
   "source": [
    "data.columns #To get column Names"
   ]
  },
  {
   "cell_type": "code",
   "execution_count": 140,
   "metadata": {},
   "outputs": [
    {
     "data": {
      "text/plain": [
       "(400, 400)"
      ]
     },
     "execution_count": 140,
     "metadata": {},
     "output_type": "execute_result"
    }
   ],
   "source": [
    "data['User ID'].nunique(),data.shape[0]"
   ]
  },
  {
   "cell_type": "markdown",
   "metadata": {},
   "source": [
    "<font size=\"3\">We Can see that unique value in \"User ID\" column is same as that of no of rows, thus \"User ID\" column can just be consider as a row identifier So we can drop that column</font>"
   ]
  },
  {
   "cell_type": "markdown",
   "metadata": {},
   "source": [
    "<Font color=\"Red\" size=\"4\"><b>Remove Unwanted Columns</b></Font>"
   ]
  },
  {
   "cell_type": "code",
   "execution_count": 141,
   "metadata": {},
   "outputs": [
    {
     "data": {
      "text/html": [
       "<div>\n",
       "<style scoped>\n",
       "    .dataframe tbody tr th:only-of-type {\n",
       "        vertical-align: middle;\n",
       "    }\n",
       "\n",
       "    .dataframe tbody tr th {\n",
       "        vertical-align: top;\n",
       "    }\n",
       "\n",
       "    .dataframe thead th {\n",
       "        text-align: right;\n",
       "    }\n",
       "</style>\n",
       "<table border=\"1\" class=\"dataframe\">\n",
       "  <thead>\n",
       "    <tr style=\"text-align: right;\">\n",
       "      <th></th>\n",
       "      <th>Gender</th>\n",
       "      <th>Age</th>\n",
       "      <th>EstimatedSalary</th>\n",
       "      <th>Purchased</th>\n",
       "    </tr>\n",
       "  </thead>\n",
       "  <tbody>\n",
       "    <tr>\n",
       "      <td>0</td>\n",
       "      <td>Male</td>\n",
       "      <td>19</td>\n",
       "      <td>19000</td>\n",
       "      <td>0</td>\n",
       "    </tr>\n",
       "    <tr>\n",
       "      <td>1</td>\n",
       "      <td>Male</td>\n",
       "      <td>35</td>\n",
       "      <td>20000</td>\n",
       "      <td>0</td>\n",
       "    </tr>\n",
       "    <tr>\n",
       "      <td>2</td>\n",
       "      <td>Female</td>\n",
       "      <td>26</td>\n",
       "      <td>43000</td>\n",
       "      <td>0</td>\n",
       "    </tr>\n",
       "    <tr>\n",
       "      <td>3</td>\n",
       "      <td>Female</td>\n",
       "      <td>27</td>\n",
       "      <td>57000</td>\n",
       "      <td>0</td>\n",
       "    </tr>\n",
       "    <tr>\n",
       "      <td>4</td>\n",
       "      <td>Male</td>\n",
       "      <td>19</td>\n",
       "      <td>76000</td>\n",
       "      <td>0</td>\n",
       "    </tr>\n",
       "  </tbody>\n",
       "</table>\n",
       "</div>"
      ],
      "text/plain": [
       "   Gender  Age  EstimatedSalary  Purchased\n",
       "0    Male   19            19000          0\n",
       "1    Male   35            20000          0\n",
       "2  Female   26            43000          0\n",
       "3  Female   27            57000          0\n",
       "4    Male   19            76000          0"
      ]
     },
     "execution_count": 141,
     "metadata": {},
     "output_type": "execute_result"
    }
   ],
   "source": [
    "data = data.drop([\"User ID\"], axis = 1)\n",
    "data.head()"
   ]
  },
  {
   "cell_type": "markdown",
   "metadata": {},
   "source": [
    "<font size=\"4\" color=\"red\"><b>Check For missing values</b></font>"
   ]
  },
  {
   "cell_type": "code",
   "execution_count": 142,
   "metadata": {},
   "outputs": [
    {
     "data": {
      "text/plain": [
       "Gender             0\n",
       "Age                0\n",
       "EstimatedSalary    0\n",
       "Purchased          0\n",
       "dtype: int64"
      ]
     },
     "execution_count": 142,
     "metadata": {},
     "output_type": "execute_result"
    }
   ],
   "source": [
    "data.isnull().sum()"
   ]
  },
  {
   "cell_type": "markdown",
   "metadata": {},
   "source": [
    "<font size=\"4\" color=\"green\"><b>Lucky !! No missing data :)</b></font>"
   ]
  },
  {
   "cell_type": "markdown",
   "metadata": {},
   "source": [
    "<font size=\"4\" color=\"red\"><b>Univarate Analysis</b></font>"
   ]
  },
  {
   "cell_type": "code",
   "execution_count": 143,
   "metadata": {},
   "outputs": [
    {
     "data": {
      "image/png": "[encoded data removed]",
      "text/plain": [
       "<Figure size 1296x288 with 2 Axes>"
      ]
     },
     "metadata": {
      "needs_background": "light"
     },
     "output_type": "display_data"
    },
    {
     "data": {
      "image/png": "[encoded data removed]",
      "text/plain": [
       "<Figure size 1296x288 with 2 Axes>"
      ]
     },
     "metadata": {
      "needs_background": "light"
     },
     "output_type": "display_data"
    }
   ],
   "source": [
    "x_axis = [\"Age\", \"EstimatedSalary\"]\n",
    "for x in x_axis:\n",
    "    fig, axes = plt.subplots(1, 2, figsize=(18,4))\n",
    "    sns.distplot(data[x], ax=axes[0], kde = False)\n",
    "    sns.boxplot(data[x], ax=axes[1], orient = \"h\", showmeans = True, color = \"pink\")\n",
    "    fig.suptitle('Univariate Analysis of ' + x, fontsize=16)"
   ]
  },
  {
   "cell_type": "markdown",
   "metadata": {},
   "source": [
    "<font size=\"4\" color=\"red\"><b>Bi-Variate Analysis</b></font>"
   ]
  },
  {
   "cell_type": "markdown",
   "metadata": {},
   "source": [
    "<font size=\"4\"><b>scatter plot between input feature</b></font>"
   ]
  },
  {
   "cell_type": "code",
   "execution_count": 144,
   "metadata": {},
   "outputs": [
    {
     "data": {
      "image/png": "[encoded data removed]",
      "text/plain": [
       "<Figure size 432x288 with 1 Axes>"
      ]
     },
     "metadata": {
      "needs_background": "light"
     },
     "output_type": "display_data"
    }
   ],
   "source": [
    "scatter_regplot('Age','EstimatedSalary',data)"
   ]
  },
  {
   "cell_type": "markdown",
   "metadata": {},
   "source": [
    "<font color=\"blue\" size=\"4\"><b>Correlation Using Heatmap</b></font>"
   ]
  },
  {
   "cell_type": "code",
   "execution_count": 145,
   "metadata": {},
   "outputs": [
    {
     "data": {
      "image/png": "[encoded data removed]",
      "text/plain": [
       "<Figure size 792x504 with 2 Axes>"
      ]
     },
     "metadata": {
      "needs_background": "light"
     },
     "output_type": "display_data"
    }
   ],
   "source": [
    "HeatMap(data)"
   ]
  },
  {
   "cell_type": "markdown",
   "metadata": {},
   "source": [
    "<font size=\"4\" color=\"green\"><b>We can see that there is no correlation between input feature thus there is no multicollinearity and we can use both age and estimated salary in the model</b></font>"
   ]
  },
  {
   "cell_type": "markdown",
   "metadata": {},
   "source": [
    "<font size=\"4\" color=\"green\"><b> To check Impact of \"Estimated Salary\" On \"Purchased\"</b></font>"
   ]
  },
  {
   "cell_type": "markdown",
   "metadata": {},
   "source": [
    "<font size=\"4\"><b> Purchased being Categorical and Estimated Salary being continuous we can use Anova Test</b></font> "
   ]
  },
  {
   "cell_type": "markdown",
   "metadata": {},
   "source": [
    "<Font color=\"blue\" size=\"4\"><b>Anova Test: To check for mean Difference between groups is significant or not !!\n",
    "</b></font>\n",
    "\n",
    " * Null Hypothesis = No difference in group Mean\n",
    " * Alternate Hypothesis = Difference in group Mean"
   ]
  },
  {
   "cell_type": "code",
   "execution_count": 146,
   "metadata": {},
   "outputs": [],
   "source": [
    "anova_df = data.copy()"
   ]
  },
  {
   "cell_type": "code",
   "execution_count": 147,
   "metadata": {},
   "outputs": [],
   "source": [
    "import scipy.stats as stats"
   ]
  },
  {
   "cell_type": "code",
   "execution_count": 148,
   "metadata": {},
   "outputs": [],
   "source": [
    "fvalue, pvalue = stats.f_oneway(anova_df[anova_df[\"Purchased\"] == 1][\"EstimatedSalary\"], \n",
    "                               anova_df[anova_df[\"Purchased\"] == 0][\"EstimatedSalary\"])"
   ]
  },
  {
   "cell_type": "code",
   "execution_count": 149,
   "metadata": {},
   "outputs": [
    {
     "data": {
      "text/plain": [
       "(60.05257919927239, 7.772785450069512e-14)"
      ]
     },
     "execution_count": 149,
     "metadata": {},
     "output_type": "execute_result"
    }
   ],
   "source": [
    "fvalue, pvalue"
   ]
  },
  {
   "cell_type": "code",
   "execution_count": 150,
   "metadata": {},
   "outputs": [
    {
     "name": "stdout",
     "output_type": "stream",
     "text": [
      "Reject Ho: There is difference\n"
     ]
    }
   ],
   "source": [
    "if (pvalue <= 0.05):\n",
    "    print (\"Reject Ho: There is difference\")\n",
    "else:\n",
    "    print (\"Accept Ho: Opss !! no difference\")"
   ]
  },
  {
   "cell_type": "markdown",
   "metadata": {},
   "source": [
    "<font size=\"3\"> We Can also check mean of all group using Box plot </font>"
   ]
  },
  {
   "cell_type": "code",
   "execution_count": 151,
   "metadata": {},
   "outputs": [
    {
     "data": {
      "text/plain": [
       "<matplotlib.axes._subplots.AxesSubplot at 0x1f4d1779148>"
      ]
     },
     "execution_count": 151,
     "metadata": {},
     "output_type": "execute_result"
    },
    {
     "data": {
      "image/png": "[encoded data removed]",
      "text/plain": [
       "<Figure size 432x288 with 1 Axes>"
      ]
     },
     "metadata": {
      "needs_background": "light"
     },
     "output_type": "display_data"
    }
   ],
   "source": [
    "sns.boxplot(x = \"Purchased\", y = \"EstimatedSalary\", showmeans=True,data = data,meanprops={\"marker\":\"s\",\"markerfacecolor\":\"white\", \"markeredgecolor\":\"blue\"})"
   ]
  },
  {
   "cell_type": "markdown",
   "metadata": {},
   "source": [
    "<font size=\"3\"> Thus From Box Plot also we can see that \"white Square\" of all the groups are different i.e mean of all group is different</font>"
   ]
  },
  {
   "cell_type": "markdown",
   "metadata": {},
   "source": [
    "<font size=\"4\" color=\"green\"><b> To check Impact of \"Age\" On \"Purchased\"</b></font>"
   ]
  },
  {
   "cell_type": "markdown",
   "metadata": {},
   "source": [
    "<font size=\"4\"><b> Purchased being Categorical and Age being continuous we can use Anova Test</b></font> "
   ]
  },
  {
   "cell_type": "markdown",
   "metadata": {},
   "source": [
    "<Font color=\"blue\" size=\"4\"><b>Anova Test: To check for mean Difference between groups is significant or not !!\n",
    "</b></font>\n",
    "\n",
    " * Null Hypothesis = No difference in group Mean\n",
    " * Alternate Hypothesis = Difference in group Mean"
   ]
  },
  {
   "cell_type": "code",
   "execution_count": 152,
   "metadata": {},
   "outputs": [],
   "source": [
    "anova_df = data.copy()"
   ]
  },
  {
   "cell_type": "code",
   "execution_count": 153,
   "metadata": {},
   "outputs": [],
   "source": [
    "import scipy.stats as stats\n",
    "\n",
    "fvalue, pvalue = stats.f_oneway(anova_df[anova_df[\"Purchased\"] == 1][\"Age\"], \n",
    "                               anova_df[anova_df[\"Purchased\"] == 0][\"Age\"])"
   ]
  },
  {
   "cell_type": "code",
   "execution_count": 154,
   "metadata": {},
   "outputs": [
    {
     "data": {
      "text/plain": [
       "(251.74206107179123, 2.800233943273413e-44)"
      ]
     },
     "execution_count": 154,
     "metadata": {},
     "output_type": "execute_result"
    }
   ],
   "source": [
    "fvalue, pvalue"
   ]
  },
  {
   "cell_type": "code",
   "execution_count": 155,
   "metadata": {},
   "outputs": [
    {
     "name": "stdout",
     "output_type": "stream",
     "text": [
      "Reject Ho: There is difference\n"
     ]
    }
   ],
   "source": [
    "if (pvalue <= 0.05):\n",
    "    print (\"Reject Ho: There is difference\")\n",
    "else:\n",
    "    print (\"Accept Ho: Opss !! no difference\")"
   ]
  },
  {
   "cell_type": "markdown",
   "metadata": {},
   "source": [
    "<font size=\"3\"> We Can also check mean of all group using Box plot </font>"
   ]
  },
  {
   "cell_type": "code",
   "execution_count": 156,
   "metadata": {},
   "outputs": [
    {
     "data": {
      "text/plain": [
       "<matplotlib.axes._subplots.AxesSubplot at 0x1f4d5a14f08>"
      ]
     },
     "execution_count": 156,
     "metadata": {},
     "output_type": "execute_result"
    },
    {
     "data": {
      "image/png": "[encoded data removed]",
      "text/plain": [
       "<Figure size 432x288 with 1 Axes>"
      ]
     },
     "metadata": {
      "needs_background": "light"
     },
     "output_type": "display_data"
    }
   ],
   "source": [
    "sns.boxplot(x = \"Purchased\", y = \"Age\", showmeans=True,data = data,meanprops={\"marker\":\"s\",\"markerfacecolor\":\"white\", \"markeredgecolor\":\"blue\"})"
   ]
  },
  {
   "cell_type": "markdown",
   "metadata": {},
   "source": [
    "<font size=\"3\"> Thus From Box Plot also we can see that \"white Square\" of all the groups are different i.e mean of all group is different</font>"
   ]
  },
  {
   "cell_type": "markdown",
   "metadata": {},
   "source": [
    "<font size=\"4\" color=\"green\"><b>Thus we Can see that from above two Anova test that Both Age and Estimated have mean difference w.r.t Purchased Thus giving an clear idea that Age and estimated Salary are important for predicting Purchased</b></font>"
   ]
  },
  {
   "cell_type": "markdown",
   "metadata": {},
   "source": [
    "<font size=\"4\" color=\"green\"><b>To check relation between Two catgorical variable we will use Chi-square Test</b></font>\n",
    "\n",
    "    * Null Hypothesis = There is no association between the two variables\n",
    "    * Alternate Hypothesis = There is an association between the two variables"
   ]
  },
  {
   "cell_type": "code",
   "execution_count": 157,
   "metadata": {},
   "outputs": [
    {
     "data": {
      "text/html": [
       "<div>\n",
       "<style scoped>\n",
       "    .dataframe tbody tr th:only-of-type {\n",
       "        vertical-align: middle;\n",
       "    }\n",
       "\n",
       "    .dataframe tbody tr th {\n",
       "        vertical-align: top;\n",
       "    }\n",
       "\n",
       "    .dataframe thead th {\n",
       "        text-align: right;\n",
       "    }\n",
       "</style>\n",
       "<table border=\"1\" class=\"dataframe\">\n",
       "  <thead>\n",
       "    <tr style=\"text-align: right;\">\n",
       "      <th>Purchased</th>\n",
       "      <th>0</th>\n",
       "      <th>1</th>\n",
       "    </tr>\n",
       "    <tr>\n",
       "      <th>Gender</th>\n",
       "      <th></th>\n",
       "      <th></th>\n",
       "    </tr>\n",
       "  </thead>\n",
       "  <tbody>\n",
       "    <tr>\n",
       "      <td>Female</td>\n",
       "      <td>127</td>\n",
       "      <td>77</td>\n",
       "    </tr>\n",
       "    <tr>\n",
       "      <td>Male</td>\n",
       "      <td>130</td>\n",
       "      <td>66</td>\n",
       "    </tr>\n",
       "  </tbody>\n",
       "</table>\n",
       "</div>"
      ],
      "text/plain": [
       "Purchased    0   1\n",
       "Gender            \n",
       "Female     127  77\n",
       "Male       130  66"
      ]
     },
     "execution_count": 157,
     "metadata": {},
     "output_type": "execute_result"
    }
   ],
   "source": [
    "table = pd.crosstab(data['Gender'],data['Purchased'])\n",
    "table"
   ]
  },
  {
   "cell_type": "code",
   "execution_count": 158,
   "metadata": {},
   "outputs": [],
   "source": [
    "from scipy.stats import chi2_contingency"
   ]
  },
  {
   "cell_type": "code",
   "execution_count": 159,
   "metadata": {},
   "outputs": [
    {
     "data": {
      "text/plain": [
       "(0.5550869364098915, 0.45624659183130645, 1, array([[131.07,  72.93],\n",
       "        [125.93,  70.07]]))"
      ]
     },
     "execution_count": 159,
     "metadata": {},
     "output_type": "execute_result"
    }
   ],
   "source": [
    "chi2_contingency(table)"
   ]
  },
  {
   "cell_type": "code",
   "execution_count": 160,
   "metadata": {},
   "outputs": [],
   "source": [
    "stat,p,dof,expected = chi2_contingency(table)"
   ]
  },
  {
   "cell_type": "code",
   "execution_count": 161,
   "metadata": {},
   "outputs": [
    {
     "name": "stdout",
     "output_type": "stream",
     "text": [
      "Accept Ho: There is no association between the two variables\n"
     ]
    }
   ],
   "source": [
    "if (p <= 0.05):\n",
    "    print (\"Reject Ho: There is an association between the two variables\")\n",
    "else:\n",
    "    print (\"Accept Ho: There is no association between the two variables\")"
   ]
  },
  {
   "cell_type": "markdown",
   "metadata": {},
   "source": [
    "<font size=\"4\" color=\"green\"><b>Thus Chi-square Test tells that us that there is no association between Gender and Purchased, Thus it's ok if you don't add gender feature in model</b></font>"
   ]
  },
  {
   "cell_type": "markdown",
   "metadata": {},
   "source": [
    "<Font color=\"blue\" size=\"4\"><b>Scatter Plot</b></font>\n",
    "\n",
    " * X = Estimated Salary\n",
    " * Y = Age\n",
    " * Hue = Purchased    "
   ]
  },
  {
   "cell_type": "code",
   "execution_count": 162,
   "metadata": {},
   "outputs": [
    {
     "data": {
      "image/png": "[encoded data removed]",
      "text/plain": [
       "<Figure size 1080x360 with 1 Axes>"
      ]
     },
     "metadata": {
      "needs_background": "light"
     },
     "output_type": "display_data"
    }
   ],
   "source": [
    "plt.figure(figsize = (15,5))\n",
    "sns.scatterplot(x = \"EstimatedSalary\", y = \"Age\", data = data, hue = \"Purchased\")\n",
    "plt.title(\"Scatter Plot with Purchase Details\", fontsize = 14)\n",
    "plt.show()"
   ]
  },
  {
   "cell_type": "code",
   "execution_count": 163,
   "metadata": {},
   "outputs": [
    {
     "data": {
      "image/png": "[encoded data removed]",
      "text/plain": [
       "<Figure size 1080x360 with 1 Axes>"
      ]
     },
     "metadata": {
      "needs_background": "light"
     },
     "output_type": "display_data"
    }
   ],
   "source": [
    "plt.figure(figsize = (15,5))\n",
    "sns.scatterplot(x = \"EstimatedSalary\", y = \"Age\", data = data, hue = \"Purchased\")\n",
    "plt.title(\"Scatter Plot with Purchase Details\", fontsize = 14)\n",
    "plt.axvline(90000,ymin= 0, ymax = 0.61, color = \"red\")\n",
    "plt.axhline(44, xmin = 0, xmax = 0.55, color = \"red\")\n",
    "#plt.axvline(90000, color = \"red\")\n",
    "#plt.axhline(40, color = \"red\")\n",
    "plt.show()"
   ]
  },
  {
   "cell_type": "markdown",
   "metadata": {},
   "source": [
    "<font size=\"4\" color=\"green\"><b>Insights</b></font> \n",
    "    \n",
    "    * Looks like this shop is not for people earning < 90k & Age < 40\n",
    "    * Can we launch a product for Q3?\n",
    "    * Any other service can be provided to on going customers?\n",
    "    * Promotion plans & advertisment ideas"
   ]
  },
  {
   "cell_type": "markdown",
   "metadata": {},
   "source": [
    "<Font color=\"blue\" size=\"4\"><b>Logistic Regression</b></font>\n",
    "\n",
    " * Lets start with very basic of classification using logistic regression"
   ]
  },
  {
   "cell_type": "code",
   "execution_count": 164,
   "metadata": {},
   "outputs": [],
   "source": [
    "from sklearn.linear_model import LogisticRegression"
   ]
  },
  {
   "cell_type": "markdown",
   "metadata": {},
   "source": [
    "<font size=\"6\" color=\"maroon\"><b><center><u>Model 1: Logistic Regression using Age</u></center></b></font>"
   ]
  },
  {
   "cell_type": "code",
   "execution_count": 165,
   "metadata": {},
   "outputs": [],
   "source": [
    "X = data[[\"Age\"]]\n",
    "y = data[[\"Purchased\"]]"
   ]
  },
  {
   "cell_type": "code",
   "execution_count": 166,
   "metadata": {},
   "outputs": [],
   "source": [
    "# Split the data for train and test \n",
    "X_train, X_test, y_train, y_test = train_test_split(X, y , train_size = 0.8, random_state = 100)   # 70-30 Split\n",
    "logreg = LogisticRegression()   \n",
    "logreg = logreg.fit(X_train, y_train)"
   ]
  },
  {
   "cell_type": "code",
   "execution_count": 167,
   "metadata": {},
   "outputs": [
    {
     "data": {
      "text/plain": [
       "(array([[0.12332162]]), array([-5.32078057]))"
      ]
     },
     "execution_count": 167,
     "metadata": {},
     "output_type": "execute_result"
    }
   ],
   "source": [
    "logreg.coef_, logreg.intercept_   # Coef: B1 , Intercept: B0"
   ]
  },
  {
   "cell_type": "markdown",
   "metadata": {},
   "source": [
    "<font size=\"4\" color=\"green\"><b>Lets check model probabilities </b></font>"
   ]
  },
  {
   "cell_type": "code",
   "execution_count": 168,
   "metadata": {},
   "outputs": [
    {
     "data": {
      "text/plain": [
       "array([0.08619053, 0.09641223, 0.08619053, 0.46474045, 0.31910655,\n",
       "       0.2445589 , 0.06116718, 0.04844493, 0.05445699, 0.61664579,\n",
       "       0.34647748, 0.37490346, 0.69958033, 0.29292867, 0.61664579,\n",
       "       0.46474045, 0.37490346, 0.37490346, 0.06864418, 0.12014086,\n",
       "       0.26805288, 0.46474045, 0.26805288, 0.26805288, 0.67304257,\n",
       "       0.12014086, 0.55692515, 0.64534899, 0.67304257, 0.14874811,\n",
       "       0.77122922, 0.12014086, 0.18275231, 0.1650488 , 0.52631828,\n",
       "       0.1650488 , 0.14874811, 0.86198472, 0.12014086, 0.86198472,\n",
       "       0.34647748, 0.07696024, 0.2445589 , 0.12014086, 0.46474045,\n",
       "       0.20189557, 0.67304257, 0.29292867, 0.20189557, 0.10770329,\n",
       "       0.26805288, 0.84664832, 0.31910655, 0.1650488 , 0.67304257,\n",
       "       0.26805288, 0.26805288, 0.31910655, 0.12014086, 0.69958033,\n",
       "       0.64534899, 0.10770329, 0.58710582, 0.10770329, 0.58710582,\n",
       "       0.29292867, 0.08619053, 0.31910655, 0.77122922, 0.67304257,\n",
       "       0.43423466, 0.22249815, 0.67304257, 0.87601197, 0.04844493,\n",
       "       0.1650488 , 0.46474045, 0.09641223, 0.26805288, 0.77122922,\n",
       "       0.12014086, 0.82994393, 0.06116718, 0.1650488 , 0.49551235,\n",
       "       0.29292867, 0.26805288, 0.55692515, 0.37490346, 0.09641223,\n",
       "       0.08619053, 0.55692515, 0.34647748, 0.46474045, 0.4042191 ,\n",
       "       0.26805288, 0.18275231, 0.20189557, 0.22249815, 0.14874811,\n",
       "       0.43423466, 0.4042191 , 0.46474045, 0.43423466, 0.18275231,\n",
       "       0.86198472, 0.04844493, 0.34647748, 0.43423466, 0.31910655,\n",
       "       0.31910655, 0.4042191 , 0.09641223, 0.86198472, 0.88879748,\n",
       "       0.07696024, 0.37490346, 0.64534899, 0.64534899, 0.77122922,\n",
       "       0.07696024, 0.4042191 , 0.13379935, 0.74874751, 0.34647748,\n",
       "       0.1650488 , 0.13379935, 0.67304257, 0.88879748, 0.26805288,\n",
       "       0.72484472, 0.4042191 , 0.04306638, 0.61664579, 0.34647748,\n",
       "       0.43423466, 0.26805288, 0.87601197, 0.77122922, 0.26805288,\n",
       "       0.43423466, 0.18275231, 0.13379935, 0.46474045, 0.08619053,\n",
       "       0.64534899, 0.49551235, 0.74874751, 0.13379935, 0.10770329,\n",
       "       0.55692515, 0.10770329, 0.84664832, 0.13379935, 0.61664579,\n",
       "       0.29292867, 0.37490346, 0.31910655, 0.82994393, 0.64534899,\n",
       "       0.26805288, 0.05445699, 0.34647748, 0.58710582, 0.64534899,\n",
       "       0.26805288, 0.26805288, 0.20189557, 0.26805288, 0.26805288,\n",
       "       0.58710582, 0.67304257, 0.08619053, 0.46474045, 0.18275231,\n",
       "       0.31910655, 0.43423466, 0.72484472, 0.58710582, 0.64534899,\n",
       "       0.58710582, 0.14874811, 0.14874811, 0.61664579, 0.61664579,\n",
       "       0.06864418, 0.4042191 , 0.12014086, 0.2445589 , 0.20189557,\n",
       "       0.4042191 , 0.22249815, 0.29292867, 0.13379935, 0.87601197,\n",
       "       0.13379935, 0.10770329, 0.12014086, 0.26805288, 0.64534899,\n",
       "       0.13379935, 0.34647748, 0.88879748, 0.43423466, 0.07696024,\n",
       "       0.34647748, 0.05445699, 0.61664579, 0.26805288, 0.43423466,\n",
       "       0.82994393, 0.64534899, 0.31910655, 0.31910655, 0.12014086,\n",
       "       0.29292867, 0.05445699, 0.26805288, 0.4042191 , 0.04306638,\n",
       "       0.81182437, 0.67304257, 0.26805288, 0.31910655, 0.1650488 ,\n",
       "       0.58710582, 0.61664579, 0.52631828, 0.43423466, 0.20189557,\n",
       "       0.31910655, 0.04306638, 0.43423466, 0.31910655, 0.46474045,\n",
       "       0.26805288, 0.06116718, 0.64534899, 0.14874811, 0.61664579,\n",
       "       0.10770329, 0.29292867, 0.22249815, 0.58710582, 0.10770329,\n",
       "       0.26805288, 0.34647748, 0.88879748, 0.74874751, 0.87601197,\n",
       "       0.46474045, 0.09641223, 0.22249815, 0.18275231, 0.58710582,\n",
       "       0.04844493, 0.84664832, 0.79225743, 0.06864418, 0.61664579,\n",
       "       0.55692515, 0.18275231, 0.10770329, 0.20189557, 0.05445699,\n",
       "       0.37490346, 0.37490346, 0.14874811, 0.84664832, 0.10770329,\n",
       "       0.26805288, 0.26805288, 0.31910655, 0.58710582, 0.34647748,\n",
       "       0.74874751, 0.18275231, 0.20189557, 0.06116718, 0.10770329,\n",
       "       0.86198472, 0.31910655, 0.22249815, 0.49551235, 0.26805288,\n",
       "       0.04844493, 0.18275231, 0.07696024, 0.69958033, 0.1650488 ,\n",
       "       0.04844493, 0.12014086, 0.74874751, 0.72484472, 0.04306638,\n",
       "       0.46474045, 0.18275231, 0.08619053, 0.14874811, 0.1650488 ,\n",
       "       0.06864418, 0.79225743, 0.46474045, 0.4042191 , 0.1650488 ,\n",
       "       0.29292867, 0.46474045, 0.37490346, 0.04306638, 0.29292867,\n",
       "       0.08619053, 0.26805288, 0.29292867, 0.34647748, 0.10770329,\n",
       "       0.61664579, 0.46474045, 0.64534899, 0.87601197, 0.09641223])"
      ]
     },
     "execution_count": 168,
     "metadata": {},
     "output_type": "execute_result"
    }
   ],
   "source": [
    "y_train_prob = logreg.predict_proba(X_train)[:,1] # 0: Not occurance 1: Occurance Probability\n",
    "y_train_prob"
   ]
  },
  {
   "cell_type": "markdown",
   "metadata": {},
   "source": [
    "<font size=\"4\" color=\"green\"><b>But output should be 1 or 0 </b></font>"
   ]
  },
  {
   "cell_type": "code",
   "execution_count": 169,
   "metadata": {},
   "outputs": [
    {
     "data": {
      "text/plain": [
       "array([0, 0, 0, 0, 0, 0, 0, 0, 0, 1, 0, 0, 1, 0, 1, 0, 0, 0, 0, 0, 0, 0,\n",
       "       0, 0, 1, 0, 1, 1, 1, 0, 1, 0, 0, 0, 1, 0, 0, 1, 0, 1, 0, 0, 0, 0,\n",
       "       0, 0, 1, 0, 0, 0, 0, 1, 0, 0, 1, 0, 0, 0, 0, 1, 1, 0, 1, 0, 1, 0,\n",
       "       0, 0, 1, 1, 0, 0, 1, 1, 0, 0, 0, 0, 0, 1, 0, 1, 0, 0, 0, 0, 0, 1,\n",
       "       0, 0, 0, 1, 0, 0, 0, 0, 0, 0, 0, 0, 0, 0, 0, 0, 0, 1, 0, 0, 0, 0,\n",
       "       0, 0, 0, 1, 1, 0, 0, 1, 1, 1, 0, 0, 0, 1, 0, 0, 0, 1, 1, 0, 1, 0,\n",
       "       0, 1, 0, 0, 0, 1, 1, 0, 0, 0, 0, 0, 0, 1, 0, 1, 0, 0, 1, 0, 1, 0,\n",
       "       1, 0, 0, 0, 1, 1, 0, 0, 0, 1, 1, 0, 0, 0, 0, 0, 1, 1, 0, 0, 0, 0,\n",
       "       0, 1, 1, 1, 1, 0, 0, 1, 1, 0, 0, 0, 0, 0, 0, 0, 0, 0, 1, 0, 0, 0,\n",
       "       0, 1, 0, 0, 1, 0, 0, 0, 0, 1, 0, 0, 1, 1, 0, 0, 0, 0, 0, 0, 0, 0,\n",
       "       1, 1, 0, 0, 0, 1, 1, 1, 0, 0, 0, 0, 0, 0, 0, 0, 0, 1, 0, 1, 0, 0,\n",
       "       0, 1, 0, 0, 0, 1, 1, 1, 0, 0, 0, 0, 1, 0, 1, 1, 0, 1, 1, 0, 0, 0,\n",
       "       0, 0, 0, 0, 1, 0, 0, 0, 0, 1, 0, 1, 0, 0, 0, 0, 1, 0, 0, 0, 0, 0,\n",
       "       0, 0, 1, 0, 0, 0, 1, 1, 0, 0, 0, 0, 0, 0, 0, 1, 0, 0, 0, 0, 0, 0,\n",
       "       0, 0, 0, 0, 0, 0, 0, 1, 0, 1, 1, 0], dtype=int64)"
      ]
     },
     "execution_count": 169,
     "metadata": {},
     "output_type": "execute_result"
    }
   ],
   "source": [
    "y_train_predict = logreg.predict(X_train)\n",
    "y_train_predict"
   ]
  },
  {
   "cell_type": "code",
   "execution_count": 170,
   "metadata": {},
   "outputs": [
    {
     "data": {
      "text/html": [
       "<div>\n",
       "<style scoped>\n",
       "    .dataframe tbody tr th:only-of-type {\n",
       "        vertical-align: middle;\n",
       "    }\n",
       "\n",
       "    .dataframe tbody tr th {\n",
       "        vertical-align: top;\n",
       "    }\n",
       "\n",
       "    .dataframe thead th {\n",
       "        text-align: right;\n",
       "    }\n",
       "</style>\n",
       "<table border=\"1\" class=\"dataframe\">\n",
       "  <thead>\n",
       "    <tr style=\"text-align: right;\">\n",
       "      <th></th>\n",
       "      <th>Age</th>\n",
       "      <th>Y_train_actuals</th>\n",
       "      <th>Y_train_Prob</th>\n",
       "      <th>Y_train_Pred</th>\n",
       "    </tr>\n",
       "  </thead>\n",
       "  <tbody>\n",
       "    <tr>\n",
       "      <td>343</td>\n",
       "      <td>47</td>\n",
       "      <td>1</td>\n",
       "      <td>0.616646</td>\n",
       "      <td>1</td>\n",
       "    </tr>\n",
       "    <tr>\n",
       "      <td>359</td>\n",
       "      <td>42</td>\n",
       "      <td>0</td>\n",
       "      <td>0.464740</td>\n",
       "      <td>0</td>\n",
       "    </tr>\n",
       "    <tr>\n",
       "      <td>323</td>\n",
       "      <td>48</td>\n",
       "      <td>1</td>\n",
       "      <td>0.645349</td>\n",
       "      <td>1</td>\n",
       "    </tr>\n",
       "    <tr>\n",
       "      <td>280</td>\n",
       "      <td>59</td>\n",
       "      <td>1</td>\n",
       "      <td>0.876012</td>\n",
       "      <td>1</td>\n",
       "    </tr>\n",
       "    <tr>\n",
       "      <td>8</td>\n",
       "      <td>25</td>\n",
       "      <td>0</td>\n",
       "      <td>0.096412</td>\n",
       "      <td>0</td>\n",
       "    </tr>\n",
       "  </tbody>\n",
       "</table>\n",
       "</div>"
      ],
      "text/plain": [
       "     Age  Y_train_actuals  Y_train_Prob  Y_train_Pred\n",
       "343   47                1      0.616646             1\n",
       "359   42                0      0.464740             0\n",
       "323   48                1      0.645349             1\n",
       "280   59                1      0.876012             1\n",
       "8     25                0      0.096412             0"
      ]
     },
     "execution_count": 170,
     "metadata": {},
     "output_type": "execute_result"
    }
   ],
   "source": [
    "X_train_op = X_train.copy()\n",
    "X_train_op[\"Y_train_actuals\"] = y_train[\"Purchased\"]\n",
    "X_train_op[\"Y_train_Prob\"] = y_train_prob\n",
    "X_train_op[\"Y_train_Pred\"] = y_train_predict\n",
    "#X_train_op[\"Y_train_Pred\"] = np.where(X_train_op[\"Y_train_Prob\"] > 0.8, 1, 0)\n",
    "X_train_op.tail()"
   ]
  },
  {
   "cell_type": "markdown",
   "metadata": {},
   "source": [
    "<font size=\"4\" color=\"green\"><b>Lets look how plot looks</b></font>"
   ]
  },
  {
   "cell_type": "code",
   "execution_count": 171,
   "metadata": {},
   "outputs": [
    {
     "data": {
      "image/png": "[encoded data removed]",
      "text/plain": [
       "<Figure size 720x288 with 1 Axes>"
      ]
     },
     "metadata": {
      "needs_background": "light"
     },
     "output_type": "display_data"
    }
   ],
   "source": [
    "plt.figure(figsize = (10,4))\n",
    "plt.scatter(X_train_op[\"Age\"], X_train_op[\"Y_train_actuals\"], color = \"blue\")\n",
    "plt.scatter(X_train_op[\"Age\"], X_train_op[\"Y_train_Prob\"], color = \"red\")\n",
    "plt.scatter(X_train_op[\"Age\"], X_train_op[\"Y_train_Pred\"], color = \"orange\")\n",
    "\n",
    "\n",
    "plt.axhline(0.5, color = \"black\")\n",
    "plt.xlabel(\"AGe\", fontsize = 14)\n",
    "plt.ylabel(\"Probability\", fontsize = 14)\n",
    "plt.title(\"Train data & best fit line using Logistic Regression\", fontsize = 14)\n",
    "plt.text(17, 0.55, \"Threshold = 0.5\", fontsize = 13)\n",
    "plt.show()"
   ]
  },
  {
   "cell_type": "markdown",
   "metadata": {},
   "source": [
    "<font size=\"4\" color=\"green\"><b>Error Evaluation</b></font>"
   ]
  },
  {
   "cell_type": "markdown",
   "metadata": {},
   "source": [
    "<font size=\"4\" color=\"Blue\"><b>Confusion Matrix</b></font>"
   ]
  },
  {
   "cell_type": "code",
   "execution_count": 172,
   "metadata": {},
   "outputs": [],
   "source": [
    "# Evalution \n",
    "from sklearn.metrics import confusion_matrix"
   ]
  },
  {
   "cell_type": "code",
   "execution_count": 173,
   "metadata": {},
   "outputs": [
    {
     "data": {
      "text/plain": [
       "array([[194,  14],\n",
       "       [ 37,  75]], dtype=int64)"
      ]
     },
     "execution_count": 173,
     "metadata": {},
     "output_type": "execute_result"
    }
   ],
   "source": [
    "cnf_matrix = confusion_matrix(X_train_op[\"Y_train_actuals\"], X_train_op[\"Y_train_Pred\"])\n",
    "cnf_matrix"
   ]
  },
  {
   "cell_type": "code",
   "execution_count": 174,
   "metadata": {},
   "outputs": [
    {
     "data": {
      "image/png": "[encoded data removed]",
      "text/plain": [
       "<Figure size 648x360 with 2 Axes>"
      ]
     },
     "metadata": {
      "needs_background": "light"
     },
     "output_type": "display_data"
    }
   ],
   "source": [
    "f, ax = plt.subplots(figsize=(9, 5))        # Sample figsize in inches\n",
    "sns.heatmap(cnf_matrix, annot = True, ax=ax,cmap = \"YlGnBu\", fmt='.3g')\n",
    "bottom, top = ax.get_ylim()\n",
    "ax.set_ylim(bottom + 0.5, top - 0.5)\n",
    "plt.ylabel(\"Actuals\", fontsize = 13)\n",
    "plt.xlabel(\"Predictions\", fontsize = 13)\n",
    "plt.title(\"Confusion Matrix\", fontsize = 14)\n",
    "plt.show()"
   ]
  },
  {
   "cell_type": "markdown",
   "metadata": {},
   "source": [
    "<font size=\"4\" color=\"green\"><b>Accuracy - Train Data</b></font>"
   ]
  },
  {
   "cell_type": "code",
   "execution_count": 175,
   "metadata": {},
   "outputs": [],
   "source": [
    "from sklearn.metrics import accuracy_score"
   ]
  },
  {
   "cell_type": "code",
   "execution_count": 176,
   "metadata": {},
   "outputs": [
    {
     "data": {
      "text/plain": [
       "0.840625"
      ]
     },
     "execution_count": 176,
     "metadata": {},
     "output_type": "execute_result"
    }
   ],
   "source": [
    "accuracy_score(X_train_op[\"Y_train_actuals\"], X_train_op[\"Y_train_Pred\"])  # Accuarcy using package"
   ]
  },
  {
   "cell_type": "markdown",
   "metadata": {},
   "source": [
    "<font size=\"4\" color=\"green\"><b>Lets predict on Test Data</b></font>"
   ]
  },
  {
   "cell_type": "code",
   "execution_count": 177,
   "metadata": {},
   "outputs": [],
   "source": [
    "y_test_prob = logreg.predict_proba(X_test)[:,1]    # Prob of buying the product\n",
    "y_test_pred = logreg.predict(X_test)            # 0 or 1"
   ]
  },
  {
   "cell_type": "code",
   "execution_count": 178,
   "metadata": {},
   "outputs": [
    {
     "data": {
      "text/html": [
       "<div>\n",
       "<style scoped>\n",
       "    .dataframe tbody tr th:only-of-type {\n",
       "        vertical-align: middle;\n",
       "    }\n",
       "\n",
       "    .dataframe tbody tr th {\n",
       "        vertical-align: top;\n",
       "    }\n",
       "\n",
       "    .dataframe thead th {\n",
       "        text-align: right;\n",
       "    }\n",
       "</style>\n",
       "<table border=\"1\" class=\"dataframe\">\n",
       "  <thead>\n",
       "    <tr style=\"text-align: right;\">\n",
       "      <th></th>\n",
       "      <th>Age</th>\n",
       "      <th>Y_test_actuals</th>\n",
       "      <th>Y_test_Prob</th>\n",
       "      <th>Y_test_Pred</th>\n",
       "    </tr>\n",
       "  </thead>\n",
       "  <tbody>\n",
       "    <tr>\n",
       "      <td>248</td>\n",
       "      <td>41</td>\n",
       "      <td>0</td>\n",
       "      <td>0.434235</td>\n",
       "      <td>0</td>\n",
       "    </tr>\n",
       "    <tr>\n",
       "      <td>318</td>\n",
       "      <td>45</td>\n",
       "      <td>1</td>\n",
       "      <td>0.556925</td>\n",
       "      <td>1</td>\n",
       "    </tr>\n",
       "    <tr>\n",
       "      <td>173</td>\n",
       "      <td>34</td>\n",
       "      <td>0</td>\n",
       "      <td>0.244559</td>\n",
       "      <td>0</td>\n",
       "    </tr>\n",
       "    <tr>\n",
       "      <td>285</td>\n",
       "      <td>37</td>\n",
       "      <td>1</td>\n",
       "      <td>0.319107</td>\n",
       "      <td>0</td>\n",
       "    </tr>\n",
       "    <tr>\n",
       "      <td>184</td>\n",
       "      <td>33</td>\n",
       "      <td>0</td>\n",
       "      <td>0.222498</td>\n",
       "      <td>0</td>\n",
       "    </tr>\n",
       "  </tbody>\n",
       "</table>\n",
       "</div>"
      ],
      "text/plain": [
       "     Age  Y_test_actuals  Y_test_Prob  Y_test_Pred\n",
       "248   41               0     0.434235            0\n",
       "318   45               1     0.556925            1\n",
       "173   34               0     0.244559            0\n",
       "285   37               1     0.319107            0\n",
       "184   33               0     0.222498            0"
      ]
     },
     "execution_count": 178,
     "metadata": {},
     "output_type": "execute_result"
    }
   ],
   "source": [
    "X_test_op = X_test.copy()\n",
    "X_test_op[\"Y_test_actuals\"] = y_test[\"Purchased\"]\n",
    "X_test_op[\"Y_test_Prob\"] = y_test_prob\n",
    "X_test_op[\"Y_test_Pred\"] = y_test_pred\n",
    "X_test_op.head()"
   ]
  },
  {
   "cell_type": "markdown",
   "metadata": {},
   "source": [
    "<font size=\"4\" color=\"green\"><b>Accuracy - Test Data</b></font>"
   ]
  },
  {
   "cell_type": "code",
   "execution_count": 179,
   "metadata": {},
   "outputs": [
    {
     "data": {
      "text/plain": [
       "82.5"
      ]
     },
     "execution_count": 179,
     "metadata": {},
     "output_type": "execute_result"
    }
   ],
   "source": [
    "accuracy_score(X_test_op[\"Y_test_actuals\"], X_test_op[\"Y_test_Pred\"])*100  # Accuarcy using package"
   ]
  },
  {
   "cell_type": "markdown",
   "metadata": {},
   "source": [
    "<font size=\"6\" color=\"maroon\"><b><center><u>Model 2: Logistic Regression using Age & Estimated Salary</u></center></b></font>"
   ]
  },
  {
   "cell_type": "code",
   "execution_count": 180,
   "metadata": {},
   "outputs": [],
   "source": [
    "X = data[[\"Age\", \"EstimatedSalary\"]]\n",
    "y = data[[\"Purchased\"]]"
   ]
  },
  {
   "cell_type": "code",
   "execution_count": 181,
   "metadata": {},
   "outputs": [],
   "source": [
    "# Split the data for train and test \n",
    "X_train, X_test, y_train, y_test = train_test_split(X, y , train_size = 0.8, random_state = 100)   # 70-30 Split"
   ]
  },
  {
   "cell_type": "code",
   "execution_count": 182,
   "metadata": {},
   "outputs": [],
   "source": [
    "logreg = LogisticRegression()\n",
    "logreg = logreg.fit(X_train, y_train)"
   ]
  },
  {
   "cell_type": "code",
   "execution_count": 183,
   "metadata": {},
   "outputs": [
    {
     "data": {
      "text/plain": [
       "(array([[-6.87436446e-03,  1.78023220e-07]]), array([-0.00587332]))"
      ]
     },
     "execution_count": 183,
     "metadata": {},
     "output_type": "execute_result"
    }
   ],
   "source": [
    "logreg.coef_, logreg.intercept_"
   ]
  },
  {
   "cell_type": "code",
   "execution_count": 184,
   "metadata": {},
   "outputs": [],
   "source": [
    "y_train_prob = logreg.predict_proba(X_train)[:,1] # 0: Not occurance 1: Occurance Probability\n",
    "y_train_predict = logreg.predict(X_train)"
   ]
  },
  {
   "cell_type": "code",
   "execution_count": 185,
   "metadata": {},
   "outputs": [
    {
     "data": {
      "text/html": [
       "<div>\n",
       "<style scoped>\n",
       "    .dataframe tbody tr th:only-of-type {\n",
       "        vertical-align: middle;\n",
       "    }\n",
       "\n",
       "    .dataframe tbody tr th {\n",
       "        vertical-align: top;\n",
       "    }\n",
       "\n",
       "    .dataframe thead th {\n",
       "        text-align: right;\n",
       "    }\n",
       "</style>\n",
       "<table border=\"1\" class=\"dataframe\">\n",
       "  <thead>\n",
       "    <tr style=\"text-align: right;\">\n",
       "      <th></th>\n",
       "      <th>Age</th>\n",
       "      <th>EstimatedSalary</th>\n",
       "      <th>Y_train_Prob</th>\n",
       "      <th>Y_train_Pred</th>\n",
       "    </tr>\n",
       "  </thead>\n",
       "  <tbody>\n",
       "    <tr>\n",
       "      <td>343</td>\n",
       "      <td>47</td>\n",
       "      <td>51000</td>\n",
       "      <td>0.420703</td>\n",
       "      <td>0</td>\n",
       "    </tr>\n",
       "    <tr>\n",
       "      <td>359</td>\n",
       "      <td>42</td>\n",
       "      <td>54000</td>\n",
       "      <td>0.429232</td>\n",
       "      <td>0</td>\n",
       "    </tr>\n",
       "    <tr>\n",
       "      <td>323</td>\n",
       "      <td>48</td>\n",
       "      <td>30000</td>\n",
       "      <td>0.418118</td>\n",
       "      <td>0</td>\n",
       "    </tr>\n",
       "    <tr>\n",
       "      <td>280</td>\n",
       "      <td>59</td>\n",
       "      <td>88000</td>\n",
       "      <td>0.402323</td>\n",
       "      <td>0</td>\n",
       "    </tr>\n",
       "    <tr>\n",
       "      <td>8</td>\n",
       "      <td>25</td>\n",
       "      <td>33000</td>\n",
       "      <td>0.457141</td>\n",
       "      <td>0</td>\n",
       "    </tr>\n",
       "  </tbody>\n",
       "</table>\n",
       "</div>"
      ],
      "text/plain": [
       "     Age  EstimatedSalary  Y_train_Prob  Y_train_Pred\n",
       "343   47            51000      0.420703             0\n",
       "359   42            54000      0.429232             0\n",
       "323   48            30000      0.418118             0\n",
       "280   59            88000      0.402323             0\n",
       "8     25            33000      0.457141             0"
      ]
     },
     "execution_count": 185,
     "metadata": {},
     "output_type": "execute_result"
    }
   ],
   "source": [
    "X_train_op = X_train.copy()\n",
    "X_train[\"Y_train_actuals\"] = y_train[\"Purchased\"]\n",
    "X_train_op[\"Y_train_Prob\"] = y_train_prob\n",
    "X_train_op[\"Y_train_Pred\"] = y_train_predict\n",
    "#X_train_op[\"Y_train_Pred\"] = np.where(X_train_op[\"Y_train_Prob\"] > 0.8, 1, 0)\n",
    "X_train_op.tail()"
   ]
  },
  {
   "cell_type": "code",
   "execution_count": 186,
   "metadata": {},
   "outputs": [
    {
     "data": {
      "text/plain": [
       "190    0\n",
       "46     0\n",
       "50     0\n",
       "377    0\n",
       "121    0\n",
       "      ..\n",
       "343    0\n",
       "359    0\n",
       "323    0\n",
       "280    0\n",
       "8      0\n",
       "Name: Y_train_Pred, Length: 320, dtype: int64"
      ]
     },
     "execution_count": 186,
     "metadata": {},
     "output_type": "execute_result"
    }
   ],
   "source": [
    "X_train_op[\"Y_train_Pred\"]"
   ]
  },
  {
   "cell_type": "code",
   "execution_count": 187,
   "metadata": {},
   "outputs": [
    {
     "data": {
      "text/plain": [
       "array([0], dtype=int64)"
      ]
     },
     "execution_count": 187,
     "metadata": {},
     "output_type": "execute_result"
    }
   ],
   "source": [
    "X_train_op[\"Y_train_Pred\"].unique()"
   ]
  },
  {
   "cell_type": "markdown",
   "metadata": {},
   "source": [
    "<font color=\"green\" size=\"4\"><b>All values predicted as 0..</b></font>"
   ]
  },
  {
   "cell_type": "markdown",
   "metadata": {},
   "source": [
    "<font size=\"4\" color=\"red\"><b>We have two feature that is Age and Estimated Salary both the feature are of different units, thus while predicting model gives higher weightage to feature which has high value and in turn more wightage is given to Estimated Salary since its range is higher compared to age So all the output are 0. To overcome this we need to standardize the input feature (Use Z-score Standardization)</b></font>"
   ]
  },
  {
   "cell_type": "markdown",
   "metadata": {},
   "source": [
    "<font size=\"6\" color=\"maroon\"><b><center><u>Model 3: Logistic Regression using Age & Estimated Salary (Standardize)</u></center></b></font>"
   ]
  },
  {
   "cell_type": "code",
   "execution_count": 188,
   "metadata": {},
   "outputs": [],
   "source": [
    "from sklearn.preprocessing import StandardScaler"
   ]
  },
  {
   "cell_type": "code",
   "execution_count": 189,
   "metadata": {},
   "outputs": [
    {
     "data": {
      "text/html": [
       "<div>\n",
       "<style scoped>\n",
       "    .dataframe tbody tr th:only-of-type {\n",
       "        vertical-align: middle;\n",
       "    }\n",
       "\n",
       "    .dataframe tbody tr th {\n",
       "        vertical-align: top;\n",
       "    }\n",
       "\n",
       "    .dataframe thead th {\n",
       "        text-align: right;\n",
       "    }\n",
       "</style>\n",
       "<table border=\"1\" class=\"dataframe\">\n",
       "  <thead>\n",
       "    <tr style=\"text-align: right;\">\n",
       "      <th></th>\n",
       "      <th>Age</th>\n",
       "      <th>EstimatedSalary</th>\n",
       "    </tr>\n",
       "  </thead>\n",
       "  <tbody>\n",
       "    <tr>\n",
       "      <td>0</td>\n",
       "      <td>-1.781797</td>\n",
       "      <td>-1.490046</td>\n",
       "    </tr>\n",
       "    <tr>\n",
       "      <td>1</td>\n",
       "      <td>-0.253587</td>\n",
       "      <td>-1.460681</td>\n",
       "    </tr>\n",
       "    <tr>\n",
       "      <td>2</td>\n",
       "      <td>-1.113206</td>\n",
       "      <td>-0.785290</td>\n",
       "    </tr>\n",
       "    <tr>\n",
       "      <td>3</td>\n",
       "      <td>-1.017692</td>\n",
       "      <td>-0.374182</td>\n",
       "    </tr>\n",
       "    <tr>\n",
       "      <td>4</td>\n",
       "      <td>-1.781797</td>\n",
       "      <td>0.183751</td>\n",
       "    </tr>\n",
       "  </tbody>\n",
       "</table>\n",
       "</div>"
      ],
      "text/plain": [
       "        Age  EstimatedSalary\n",
       "0 -1.781797        -1.490046\n",
       "1 -0.253587        -1.460681\n",
       "2 -1.113206        -0.785290\n",
       "3 -1.017692        -0.374182\n",
       "4 -1.781797         0.183751"
      ]
     },
     "execution_count": 189,
     "metadata": {},
     "output_type": "execute_result"
    }
   ],
   "source": [
    "X = data[[\"Age\", \"EstimatedSalary\"]]\n",
    "y = data[[\"Purchased\"]]\n",
    "\n",
    "sc = StandardScaler()\n",
    "X = sc.fit_transform(X)\n",
    "\n",
    "X = pd.DataFrame(X,columns = [\"Age\", \"EstimatedSalary\"])\n",
    "\n",
    "X.head()"
   ]
  },
  {
   "cell_type": "code",
   "execution_count": 190,
   "metadata": {},
   "outputs": [],
   "source": [
    "# Split the data for train and test \n",
    "X_train, X_test, y_train, y_test = train_test_split(X, y , train_size = 0.8, random_state = 100)   # 70-30 Split"
   ]
  },
  {
   "cell_type": "code",
   "execution_count": 191,
   "metadata": {},
   "outputs": [],
   "source": [
    "logreg = LogisticRegression()   # C = Higher value means low penality\n",
    "logreg = logreg.fit(X_train, y_train)"
   ]
  },
  {
   "cell_type": "code",
   "execution_count": 192,
   "metadata": {},
   "outputs": [
    {
     "data": {
      "text/plain": [
       "(array([[2.23644219, 1.0661075 ]]), array([-1.08375039]))"
      ]
     },
     "execution_count": 192,
     "metadata": {},
     "output_type": "execute_result"
    }
   ],
   "source": [
    "logreg.coef_, logreg.intercept_"
   ]
  },
  {
   "cell_type": "code",
   "execution_count": 193,
   "metadata": {},
   "outputs": [],
   "source": [
    "y_train_prob = logreg.predict_proba(X_train)[:,1] # 0: Not occurance 1: Occurance Probability\n",
    "y_train_predict = logreg.predict(X_train)"
   ]
  },
  {
   "cell_type": "code",
   "execution_count": 194,
   "metadata": {},
   "outputs": [
    {
     "data": {
      "text/html": [
       "<div>\n",
       "<style scoped>\n",
       "    .dataframe tbody tr th:only-of-type {\n",
       "        vertical-align: middle;\n",
       "    }\n",
       "\n",
       "    .dataframe tbody tr th {\n",
       "        vertical-align: top;\n",
       "    }\n",
       "\n",
       "    .dataframe thead th {\n",
       "        text-align: right;\n",
       "    }\n",
       "</style>\n",
       "<table border=\"1\" class=\"dataframe\">\n",
       "  <thead>\n",
       "    <tr style=\"text-align: right;\">\n",
       "      <th></th>\n",
       "      <th>Age</th>\n",
       "      <th>EstimatedSalary</th>\n",
       "      <th>Y_train_actuals</th>\n",
       "      <th>Y_train_Prob</th>\n",
       "      <th>Y_train_Pred</th>\n",
       "    </tr>\n",
       "  </thead>\n",
       "  <tbody>\n",
       "    <tr>\n",
       "      <td>343</td>\n",
       "      <td>0.892570</td>\n",
       "      <td>-0.550371</td>\n",
       "      <td>1</td>\n",
       "      <td>0.580707</td>\n",
       "      <td>1</td>\n",
       "    </tr>\n",
       "    <tr>\n",
       "      <td>359</td>\n",
       "      <td>0.415005</td>\n",
       "      <td>-0.462276</td>\n",
       "      <td>0</td>\n",
       "      <td>0.343338</td>\n",
       "      <td>0</td>\n",
       "    </tr>\n",
       "    <tr>\n",
       "      <td>323</td>\n",
       "      <td>0.988083</td>\n",
       "      <td>-1.167033</td>\n",
       "      <td>1</td>\n",
       "      <td>0.470499</td>\n",
       "      <td>0</td>\n",
       "    </tr>\n",
       "    <tr>\n",
       "      <td>280</td>\n",
       "      <td>2.038728</td>\n",
       "      <td>0.536129</td>\n",
       "      <td>1</td>\n",
       "      <td>0.982831</td>\n",
       "      <td>1</td>\n",
       "    </tr>\n",
       "    <tr>\n",
       "      <td>8</td>\n",
       "      <td>-1.208719</td>\n",
       "      <td>-1.078938</td>\n",
       "      <td>0</td>\n",
       "      <td>0.007123</td>\n",
       "      <td>0</td>\n",
       "    </tr>\n",
       "  </tbody>\n",
       "</table>\n",
       "</div>"
      ],
      "text/plain": [
       "          Age  EstimatedSalary  Y_train_actuals  Y_train_Prob  Y_train_Pred\n",
       "343  0.892570        -0.550371                1      0.580707             1\n",
       "359  0.415005        -0.462276                0      0.343338             0\n",
       "323  0.988083        -1.167033                1      0.470499             0\n",
       "280  2.038728         0.536129                1      0.982831             1\n",
       "8   -1.208719        -1.078938                0      0.007123             0"
      ]
     },
     "execution_count": 194,
     "metadata": {},
     "output_type": "execute_result"
    }
   ],
   "source": [
    "X_train_op = X_train.copy()\n",
    "X_train_op[\"Y_train_actuals\"] = y_train[\"Purchased\"]\n",
    "X_train_op[\"Y_train_Prob\"] = y_train_prob\n",
    "X_train_op[\"Y_train_Pred\"] = y_train_predict\n",
    "#X_train_op[\"Y_train_Pred\"] = np.where(X_train_op[\"Y_train_Prob\"] > 0.5, 1, 0)\n",
    "X_train_op.tail()"
   ]
  },
  {
   "cell_type": "code",
   "execution_count": 195,
   "metadata": {},
   "outputs": [
    {
     "data": {
      "text/plain": [
       "85.3125"
      ]
     },
     "execution_count": 195,
     "metadata": {},
     "output_type": "execute_result"
    }
   ],
   "source": [
    "accuracy_score(X_train_op[\"Y_train_actuals\"], X_train_op[\"Y_train_Pred\"]) *100 # Accuarcy using package"
   ]
  },
  {
   "cell_type": "code",
   "execution_count": 196,
   "metadata": {},
   "outputs": [
    {
     "data": {
      "text/plain": [
       "(array([[2.23644219, 1.0661075 ]]), array([-1.08375039]))"
      ]
     },
     "execution_count": 196,
     "metadata": {},
     "output_type": "execute_result"
    }
   ],
   "source": [
    "logreg.coef_, logreg.intercept_"
   ]
  },
  {
   "cell_type": "markdown",
   "metadata": {},
   "source": [
    "<font size=\"4\" color=\"green\"><b>To get boundry Line</b></font>\n",
    "\n",
    "    1) y = B0 + B1x1 + B2x2\n",
    "    2) y to be 0 (weights are 0)\n",
    "    3) 0 = B0 + B1x1 + B2x2\n",
    "    3) (- B2x2) = B0 + B1x1\n",
    "    5) x2 = -(B0 + B1*x1)/B2\n",
    "    6) x2 = -(logreg.intercept[0] + logreg.coef[0]x1)/logreg.coef_[1] #### X_train_op_1[\"Boundary\"] = -(B0 + B1X_train_op_1[\"Age\"])/B2"
   ]
  },
  {
   "cell_type": "code",
   "execution_count": 197,
   "metadata": {},
   "outputs": [],
   "source": [
    "X_train_op_1 = X_train_op.copy()\n",
    "X_train_op_1[\"Boundary\"] = -(logreg.intercept_[0] + logreg.coef_[0][0]*X_train_op_1[\"Age\"])/logreg.coef_[0][1]\n",
    "#X_train_op_1[\"Boundary\"] = -(logreg.intercept_[0] + logreg.coef_[0][1]*X_train_op_1[\"EstimatedSalary\"])/logreg.coef_[0][0]"
   ]
  },
  {
   "cell_type": "code",
   "execution_count": 198,
   "metadata": {},
   "outputs": [
    {
     "data": {
      "image/png": "[encoded data removed]",
      "text/plain": [
       "<Figure size 1080x360 with 1 Axes>"
      ]
     },
     "metadata": {
      "needs_background": "light"
     },
     "output_type": "display_data"
    }
   ],
   "source": [
    "plt.figure(figsize = (15,5))\n",
    "sns.scatterplot(x = \"EstimatedSalary\", y = \"Age\", data = X_train_op, hue = \"Y_train_Pred\")\n",
    "plt.plot(X_train_op_1[\"Boundary\"], X_train_op_1[\"Age\"], color = \"red\")\n",
    "\n",
    "plt.xlim(-2,2.5)\n",
    "plt.title(\"Scatter Plot with Purchase Details\", fontsize = 14)\n",
    "plt.show()"
   ]
  },
  {
   "cell_type": "code",
   "execution_count": 199,
   "metadata": {},
   "outputs": [
    {
     "data": {
      "image/png": "[encoded data removed]",
      "text/plain": [
       "<Figure size 720x288 with 1 Axes>"
      ]
     },
     "metadata": {
      "needs_background": "light"
     },
     "output_type": "display_data"
    }
   ],
   "source": [
    "plt.figure(figsize = (10,4))\n",
    "plt.scatter(X_train_op_1[\"Age\"], X_train_op[\"Y_train_actuals\"], color = \"blue\")\n",
    "plt.scatter(X_train_op_1[\"Age\"], X_train_op[\"Y_train_Prob\"], color = \"red\")\n",
    "plt.scatter(X_train_op_1[\"Age\"], X_train_op[\"Y_train_Pred\"], color = \"orange\")\n",
    "\n",
    "\n",
    "plt.axhline(0.5, color = \"black\")\n",
    "plt.xlabel(\"AGe\", fontsize = 14)\n",
    "plt.ylabel(\"Probability\", fontsize = 14)\n",
    "plt.title(\"Train data & best fit line using Logistic Regression\", fontsize = 14)\n",
    "#plt.text(17, 0.55, \"Threshold = 0.5\", fontsize = 13)\n",
    "plt.show()"
   ]
  },
  {
   "cell_type": "code",
   "execution_count": 200,
   "metadata": {},
   "outputs": [
    {
     "data": {
      "text/plain": [
       "0.825"
      ]
     },
     "execution_count": 200,
     "metadata": {},
     "output_type": "execute_result"
    }
   ],
   "source": [
    "accuracy_score(X_test_op[\"Y_test_actuals\"], X_test_op[\"Y_test_Pred\"])  # On Test Data"
   ]
  },
  {
   "cell_type": "markdown",
   "metadata": {},
   "source": [
    "<font size=\"4\" color=\"green\"><b>Conclusing Statement</b></font>\n",
    "\n",
    "  We can conclude that Age and Estimated Salary after standardizing gives an accuracy of 85% for train and 82% for test"
   ]
  },
  {
   "cell_type": "code",
   "execution_count": null,
   "metadata": {},
   "outputs": [],
   "source": []
  }
 ],
 "metadata": {
  "kernelspec": {
   "display_name": "Python 3",
   "language": "python",
   "name": "python3"
  },
  "language_info": {
   "codemirror_mode": {
    "name": "ipython",
    "version": 3
   },
   "file_extension": ".py",
   "mimetype": "text/x-python",
   "name": "python",
   "nbconvert_exporter": "python",
   "pygments_lexer": "ipython3",
   "version": "3.7.4"
  }
 },
 "nbformat": 4,
 "nbformat_minor": 2
}
